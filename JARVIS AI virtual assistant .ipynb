{
 "cells": [
  {
   "cell_type": "code",
   "execution_count": 1,
   "metadata": {},
   "outputs": [],
   "source": [
    "import wolframalpha\n"
   ]
  },
  {
   "cell_type": "code",
   "execution_count": 2,
   "metadata": {},
   "outputs": [],
   "source": [
    "client = wolframalpha.Client(\"WGJ9G8-2JAGLU585U\")\n"
   ]
  },
  {
   "cell_type": "code",
   "execution_count": 3,
   "metadata": {
    "collapsed": true
   },
   "outputs": [
    {
     "ename": "NameError",
     "evalue": "name 'res' is not defined",
     "output_type": "error",
     "traceback": [
      "\u001b[1;31m---------------------------------------------------------------------------\u001b[0m",
      "\u001b[1;31mNameError\u001b[0m                                 Traceback (most recent call last)",
      "\u001b[1;32m<ipython-input-3-5b10d39e728d>\u001b[0m in \u001b[0;36m<module>\u001b[1;34m\u001b[0m\n\u001b[1;32m----> 1\u001b[1;33m \u001b[0mprint\u001b[0m\u001b[1;33m(\u001b[0m\u001b[0mnext\u001b[0m\u001b[1;33m(\u001b[0m\u001b[0mres\u001b[0m\u001b[1;33m.\u001b[0m\u001b[0mresults\u001b[0m\u001b[1;33m)\u001b[0m\u001b[1;33m.\u001b[0m\u001b[0mtext\u001b[0m\u001b[1;33m)\u001b[0m\u001b[1;33m\u001b[0m\u001b[1;33m\u001b[0m\u001b[0m\n\u001b[0m",
      "\u001b[1;31mNameError\u001b[0m: name 'res' is not defined"
     ]
    }
   ],
   "source": [
    " \n",
    "print(next(res.results).text)"
   ]
  },
  {
   "cell_type": "code",
   "execution_count": 4,
   "metadata": {},
   "outputs": [
    {
     "name": "stdout",
     "output_type": "stream",
     "text": [
      "Hello, human.\n"
     ]
    }
   ],
   "source": [
    "import PySimpleGUI as sg                        # Part 1 - The import\n",
    "\n",
    "# Define the window's contents\n",
    "sg.theme('DarkPurple')\n",
    "layout =   [[sg.Text('Enter a command'), sg.InputText()],[sg.Button('Ok'), sg.Button('Cancel')]]\n",
    "\n",
    "# Create the window\n",
    "window = sg.Window('JARVIS', layout)      # Part 3 - Window Defintion\n",
    "\n",
    "# Display and interact with the Window\n",
    "event, values = window.read()                   # Part 4 - Event loop or Window.read call\n",
    "\n",
    "res = client.query(values[0])\n",
    "print(next(res.results).text)\n",
    "\n",
    "# Finish up by removing from the screen\n",
    "window.close()                                  # Part 5 - Close the Window"
   ]
  },
  {
   "cell_type": "code",
   "execution_count": 15,
   "metadata": {},
   "outputs": [],
   "source": [
    "# ADDING AN EXTRA WINDOW to display OUTPUT\n",
    "import wolframalpha\n",
    "client = wolframalpha.Client(\"WGJ9G8-2JAGLU585U\")\n",
    "\n",
    "\n",
    "import PySimpleGUI as sg \n",
    "\n",
    "sg.theme('DarkPurple')\n",
    "layout =[[sg.Text('Enter a command'), sg.InputText()], [sg.Button('OK'), sg.Button('Cancel')]]\n",
    "window = sg.Window('JARVIS', layout)\n",
    "while True:\n",
    "    event, values = window.read()\n",
    "    if event in (None, 'Cancel'):\n",
    "        break\n",
    "    res = client.query(values[0])\n",
    "    sg.Popup(next(res.results).text)\n",
    "    \n",
    "    \n",
    "window.close()\n"
   ]
  },
  {
   "cell_type": "code",
   "execution_count": 17,
   "metadata": {},
   "outputs": [],
   "source": [
    "import wikipedia"
   ]
  },
  {
   "cell_type": "code",
   "execution_count": 18,
   "metadata": {},
   "outputs": [
    {
     "name": "stdout",
     "output_type": "stream",
     "text": [
      "marvel universe\n"
     ]
    }
   ],
   "source": [
    "#TRYING TO HAD WIKI AND WOLFAM OUTPUT TOGETHER\n",
    "import PySimpleGUI as sg \n",
    "import wikipedia\n",
    "sg.theme('DarkPurple')\n",
    "layout =[[sg.Text('Enter a command'), sg.InputText()], [sg.Button('OK'), sg.Button('Cancel')]]\n",
    "window = sg.Window('JARVIS', layout)\n",
    "\n",
    "\n",
    "while True:\n",
    "    event, values = window.read()\n",
    "    if event in (None, 'Cancel'):\n",
    "        break\n",
    "    res = client.query(values[0])\n",
    "    wolfram_res = next(res.results).text\n",
    "    wiki_res = wikipedia.summary(values[0], sentences=2)\n",
    "    sg.Popup(\"wolfram Result: \" +wolfram_res, \" Wikipedia Result: \"+wiki_res)\n",
    "    \n",
    "    \n",
    "    print(values[0])\n",
    "    \n",
    "    \n",
    "window.close()\n"
   ]
  },
  {
   "cell_type": "markdown",
   "metadata": {},
   "source": [
    "# ADDING TEXT TO SPEACH RECOGNITION \n",
    "\n"
   ]
  },
  {
   "cell_type": "code",
   "execution_count": null,
   "metadata": {},
   "outputs": [],
   "source": []
  },
  {
   "cell_type": "code",
   "execution_count": 7,
   "metadata": {},
   "outputs": [
    {
     "name": "stdout",
     "output_type": "stream",
     "text": [
      "derivative of 20x\n"
     ]
    }
   ],
   "source": [
    "import PySimpleGUI as sg \n",
    "import wikipedia\n",
    "sg.theme('DarkPurple')\n",
    "layout =[[sg.Text('Enter a command'), sg.InputText()], [sg.Button('OK'), sg.Button('Cancel')]]\n",
    "window = sg.Window('JARVIS', layout)\n",
    "\n",
    "\n",
    "while True:\n",
    "    event, values = window.read()\n",
    "    if event in (None, 'Cancel'):\n",
    "        break\n",
    "    res = client.query(values[0])\n",
    "    wolfram_res = next(res.results).text\n",
    "    wiki_res = wikipedia.summary(values[0], sentences=2)\n",
    "    \n",
    "    import pyttsx3\n",
    "    engine = pyttsx3.init()\n",
    "    engine.say(wolfram_res)\n",
    "    engine.say(wiki_res)\n",
    "    engine.runAndWait()\n",
    "    sg.PopupNonBlocking(\"wolfram Result: \" +wolfram_res, \" Wikipedia Result: \"+wiki_res)\n",
    "    \n",
    "    \n",
    "    print(values[0])\n",
    "    \n",
    "    \n",
    "window.close()\n"
   ]
  },
  {
   "cell_type": "markdown",
   "metadata": {},
   "source": [
    "# creating exceptions for the AI search of results"
   ]
  },
  {
   "cell_type": "code",
   "execution_count": 6,
   "metadata": {
    "collapsed": true
   },
   "outputs": [
    {
     "ename": "SyntaxError",
     "evalue": "invalid syntax (<ipython-input-6-8de98115186b>, line 18)",
     "output_type": "error",
     "traceback": [
      "\u001b[1;36m  File \u001b[1;32m\"<ipython-input-6-8de98115186b>\"\u001b[1;36m, line \u001b[1;32m18\u001b[0m\n\u001b[1;33m    engine.say(wolfram_res)\u001b[0m\n\u001b[1;37m    ^\u001b[0m\n\u001b[1;31mSyntaxError\u001b[0m\u001b[1;31m:\u001b[0m invalid syntax\n"
     ]
    }
   ],
   "source": [
    "import PySimpleGUI as sg \n",
    "import wikipedia\n",
    "import pyttsx3\n",
    "engine = pyttsx3.init()\n",
    "sg.theme('DarkPurple')\n",
    "layout =[[sg.Text('Enter a command'), sg.InputText()], [sg.Button('OK'), sg.Button('Cancel')]]\n",
    "window = sg.Window('JARVIS', layout)\n",
    "\n",
    "\n",
    "while True:\n",
    "    event, values = window.read()\n",
    "    if event in (None, 'Cancel'):\n",
    "        break\n",
    "        \n",
    "    try:\n",
    "        wiki_res = wikipedia.summary(values[0], sentences=2)  \n",
    "        wolfram_res = next(client.query(values[0].results).text\n",
    "        engine.say(wolfram_res)\n",
    "        sg.PopupNonBlocking(\"wolfram Result: \" +wolfram_res, \" Wikipedia Result: \"+wiki_res)\n",
    "    except wikipedia.exceptions.DisambiguationError:\n",
    "        wolfram_res = next(client.query(values[0].results).text\n",
    "        engine.say(wolfram_res)\n",
    "        sg.PopupNonBlocking[wolfram_res]\n",
    "    except wikipedia.exceptions.PageError:\n",
    "        wolfram_res = next(client.query(values[0].results).text\n",
    "        engine.say(wolfram_res)\n",
    "        sg.PopupNonBlocking[wolfram_res]\n",
    "    except:\n",
    "        wiki_res = wikipedia.summary(values[0], sentences=2)\n",
    "        engine.say(wiki_res)\n",
    "        sg.PopupNonBlocking(wiki_res)\n",
    "    \n",
    "    engine.runAndWait()\n",
    "    \n",
    "    print [values[0]]\n",
    "\n",
    "    \n",
    "    \n",
    "window.close()\n"
   ]
  },
  {
   "cell_type": "code",
   "execution_count": null,
   "metadata": {},
   "outputs": [],
   "source": []
  }
 ],
 "metadata": {
  "kernelspec": {
   "display_name": "Python 3",
   "language": "python",
   "name": "python3"
  },
  "language_info": {
   "codemirror_mode": {
    "name": "ipython",
    "version": 3
   },
   "file_extension": ".py",
   "mimetype": "text/x-python",
   "name": "python",
   "nbconvert_exporter": "python",
   "pygments_lexer": "ipython3",
   "version": "3.8.3"
  }
 },
 "nbformat": 4,
 "nbformat_minor": 4
}
